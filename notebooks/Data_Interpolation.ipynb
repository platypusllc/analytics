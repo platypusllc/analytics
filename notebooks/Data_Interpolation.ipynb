{
 "cells": [
  {
   "cell_type": "code",
   "execution_count": 1,
   "metadata": {},
   "outputs": [],
   "source": [
    "%matplotlib inline\n",
    "\n",
    "from ipyleaflet import Map, ImageOverlay, Polyline\n",
    "import matplotlib\n",
    "import matplotlib.cm\n",
    "from matplotlib import pyplot\n",
    "import numpy as np\n",
    "import numpy.lib.recfunctions\n",
    "import scipy\n",
    "import scipy.interpolate\n",
    "import pandas\n",
    "import platypus.io.logs\n",
    "import os\n",
    "import uuid\n",
    "import glob"
   ]
  },
  {
   "cell_type": "code",
   "execution_count": 21,
   "metadata": {
    "scrolled": false
   },
   "outputs": [
    {
     "name": "stdout",
     "output_type": "stream",
     "text": [
      "set([u'ATLAS_PH', u'BATTERY', 'pose', u'ATLAS_DO', u'ES2'])\n",
      "ES2 sensor is present. Trimming all data within EC = 0 time windows\n",
      "\n",
      "Available sensors/channels:\n",
      "  ATLAS_PH, ph\n",
      "  ATLAS_DO, do\n",
      "  ES2, ec\n",
      "  ES2, temperature\n"
     ]
    }
   ],
   "source": [
    "# Import the data from the specified logfile\n",
    "# log_path = \"/home/shawn/day2/\"\n",
    "# log_filenames = [\n",
    "#             log_path + \"platypus_20171119_081603.txt\",\n",
    "#             log_path + \"platypus_20171119_093819.txt\",\n",
    "#             log_path + \"platypus_20171119_102933.txt\",\n",
    "#             log_path + \"platypus_20171119_105652.txt\",\n",
    "#             log_path + \"platypus_20171119_105709.txt\",\n",
    "#             log_path + \"platypus_20171119_112232.txt\"\n",
    "#         ]\n",
    "\n",
    "log_path = \"/home/shawn/day1/\"\n",
    "log_filenames = [\n",
    "            log_path + \"platypus_20171117_034941.txt\",\n",
    "#             log_path + \"platypus_20171117_045142.txt\",\n",
    "#             log_path + \"platypus_20171117_052611.txt\",\n",
    "#             log_path + \"platypus_20171117_063759.txt\",\n",
    "#             log_path + \"platypus_20171117_083516.txt\",\n",
    "#             log_path + \"platypus_20171117_085402.txt\",\n",
    "#             log_path + \"platypus_20171117_092146.txt\",\n",
    "#             log_path + \"platypus_20171117_095701.txt\",\n",
    "#             log_path + \"platypus_20171117_102132.txt\",\n",
    "#             log_path + \"platypus_20171117_102340.txt\",\n",
    "#             log_path + \"platypus_20171117_103741.txt\",\n",
    "        ]\n",
    "\n",
    "log_path = \"/home/shawn/day4/\"\n",
    "log_filenames = [\n",
    "            log_path + \"platypus_20171121_045529.txt\",\n",
    "#             log_path + \"platypus_20171121_053515.txt\",\n",
    "#             log_path + \"platypus_20171121_073237.txt\",\n",
    "#             log_path + \"platypus_20171121_074700.txt\",\n",
    "#             log_path + \"platypus_20171121_084718.txt\",\n",
    "#             log_path + \"platypus_20171121_092302.txt\",\n",
    "#             log_path + \"platypus_20171121_095421.txt\",\n",
    "#             log_path + \"platypus_20171121_101351.txt\",\n",
    "#             log_path + \"platypus_20171121_103427.txt\",\n",
    "#             log_path + \"platypus_20171121_103725.txt\",\n",
    "#             log_path + \"platypus_20171121_110202.txt\",\n",
    "#             log_path + \"platypus_20171121_113356.txt\"\n",
    "        ]\n",
    "\n",
    "log_path = \"/home/shawn/all/\"\n",
    "log_filenames = glob.glob(log_path+'/'+\"*.txt\")\n",
    "\n",
    "csv_output_filename = \"Nov2017ShawnNetherlands\"\n",
    "log_ext = \".txt\"\n",
    "\n",
    "#data = platypus.io.logs.load(log_path + log_filename + log_ext)\n",
    "data = platypus.io.logs.merge_files(log_filenames)\n",
    "\n",
    "if \"ES2\" in data:\n",
    "    print \"ES2 sensor is present. Trimming all data within EC = 0 time windows\\n\"\n",
    "    # find all time windows where EC is exactly 0\n",
    "    ES2_data = data[\"ES2\"]\n",
    "    values = ES2_data[\"ec\"].values\n",
    "    #ec_eq_zero_indices = np.where(values == 0)[0]\n",
    "    ec_eq_zero_indices = np.where( (values < 200) )[0]\n",
    "    windows = list()\n",
    "    windows.append([ec_eq_zero_indices[0]])\n",
    "    left = ec_eq_zero_indices[0]\n",
    "    for ii in range(1, ec_eq_zero_indices.shape[0]):\n",
    "        i = ec_eq_zero_indices[ii]\n",
    "        if i - left > 5:\n",
    "            # there has been a jump in index, a new time window has started\n",
    "            windows[-1].append(left)\n",
    "            windows.append([i])\n",
    "        left = i\n",
    "    windows[-1].append(ec_eq_zero_indices[-1])\n",
    "    # print ec_eq_zero_indices\n",
    "    # print windows\n",
    "    for window in windows:\n",
    "        time_window = [ES2_data[\"ec\"].index.values[window[0]], ES2_data[\"ec\"].index.values[window[1]]]\n",
    "        for k in data:\n",
    "            data[k] = data[k].loc[np.logical_or(data[k].index < time_window[0], data[k].index > time_window[1])]\n",
    "else:\n",
    "    print \"No ES2 sensor present. No trimming will be performed.\"\n",
    "    \n",
    "\"\"\"\n",
    "if \"ATLAS_PH\" in data:\n",
    "    print \"pH sensor is present. Trimming all data within pH < 6 time windows\\n\"\n",
    "    # find all time windows where pH is less than 6\n",
    "    pH_data = data[\"ATLAS_PH\"]\n",
    "    values = pH_data[\"ph\"].values\n",
    "    pH_lt_6_indices = np.where( (values < 6) | (values > 8.5))[0]\n",
    "    windows = list()\n",
    "    windows.append([pH_lt_6_indices[0]])\n",
    "    left = pH_lt_6_indices[0]\n",
    "    for ii in range(1, pH_lt_6_indices.shape[0]):\n",
    "        i = pH_lt_6_indices[ii]\n",
    "        if i - left > 5:\n",
    "            windows[-1].append(left)\n",
    "            windows.append([i])\n",
    "        left = i\n",
    "    windows[-1].append(pH_lt_6_indices[-1])\n",
    "    for window in windows:\n",
    "        time_window = [pH_data[\"ph\"].index.values[window[0]], pH_data[\"ph\"].index.values[window[1]]]\n",
    "        for k in data:\n",
    "            data[k] = data[k].loc[np.logical_or(data[k].index < time_window[0], data[k].index > time_window[1])]\n",
    "\"\"\"\n",
    "\n",
    "# Define useful access variables.\n",
    "pose = data['pose']\n",
    "position = pose[['latitude', 'longitude']]\n",
    "\n",
    "# Print the available sensors and channels for this logfile.\n",
    "print \"Available sensors/channels:\"\n",
    "for s in data.keys():\n",
    "    if s == 'pose' or s == 'BATTERY':\n",
    "        continue\n",
    "    for c in data[s].dtypes.keys():\n",
    "        print \"  {:s}, {:s}\".format(s, str(c))"
   ]
  },
  {
   "cell_type": "code",
   "execution_count": 28,
   "metadata": {},
   "outputs": [],
   "source": [
    "# Select the sensor and the name of the channel for that sensor.\n",
    "# sensor_name = 'ATLAS_PH'\n",
    "# sensor_channel = 'ph'\n",
    "# sensor_units = \"pH\"\n",
    "\n",
    "sensor_name = 'ATLAS_PH'\n",
    "sensor_channel = 'ph'\n",
    "sensor_units = 'Electrical Conductivity (uS/cm)'\n",
    "\n",
    "# sensor_units = 'Temperature (C)'\n",
    "#sensor_units = 'Dissolved Oxygen (mg/L)'"
   ]
  },
  {
   "cell_type": "code",
   "execution_count": 29,
   "metadata": {
    "scrolled": true
   },
   "outputs": [],
   "source": [
    "# Extract the pose timing and the sensor data of interest.\n",
    "pose_times = pose.index.values.astype(np.float64)\n",
    "\n",
    "if sensor_name in data:\n",
    "    sensor = data[sensor_name]\n",
    "    sensor_times = sensor.index.values.astype(np.float64)\n",
    "\n",
    "    # Linearly interpolate the position of the sensor at every sample.\n",
    "    sensor_pose_interpolator = scipy.interpolate.interp1d(pose_times, position,\n",
    "                                                          axis=0, bounds_error=False)\n",
    "\n",
    "    # Add the position information back to the sensor data.\n",
    "    sensor = sensor.join(pandas.DataFrame(sensor_pose_interpolator(sensor_times), sensor.index,\n",
    "                                          columns=('latitude', 'longitude')))\n",
    "    \n",
    "    # print sensor data to csv file\n",
    "    sensor.to_csv(log_path + csv_output_filename + \"__\" + sensor_name + \".csv\")\n",
    "\n",
    "    # Remove columns that have NaN values (no pose information).\n",
    "    sensor_valid = np.all(np.isfinite(sensor), axis=1)\n",
    "    sensor = sensor[sensor_valid]"
   ]
  },
  {
   "cell_type": "code",
   "execution_count": 24,
   "metadata": {},
   "outputs": [],
   "source": [
    "# Create a trail of the vehicle's path on the map.\n",
    "pl = Polyline(locations=position.as_matrix().tolist())\n",
    "pl.fill_opacity = 0.0\n",
    "pl.weight = 2"
   ]
  },
  {
   "cell_type": "code",
   "execution_count": 25,
   "metadata": {
    "scrolled": true
   },
   "outputs": [
    {
     "name": "stdout",
     "output_type": "stream",
     "text": [
      "latitude     51.980245\n",
      "longitude     4.258278\n",
      "dtype: float64\n",
      "latitude     51.994891\n",
      "longitude     4.291409\n",
      "dtype: float64\n",
      "[1e-05, 1e-05]\n"
     ]
    },
    {
     "ename": "KeyboardInterrupt",
     "evalue": "",
     "output_type": "error",
     "traceback": [
      "\u001b[0;31m---------------------------------------------------------------------------\u001b[0m",
      "\u001b[0;31mKeyboardInterrupt\u001b[0m                         Traceback (most recent call last)",
      "\u001b[0;32m<ipython-input-25-f04f3d648242>\u001b[0m in \u001b[0;36m<module>\u001b[0;34m()\u001b[0m\n\u001b[1;32m     26\u001b[0m \u001b[0;34m\u001b[0m\u001b[0m\n\u001b[1;32m     27\u001b[0m     \u001b[0mdata_estimator\u001b[0m\u001b[0;34m.\u001b[0m\u001b[0mfit\u001b[0m\u001b[0;34m(\u001b[0m\u001b[0msensor\u001b[0m\u001b[0;34m[\u001b[0m\u001b[0;34m[\u001b[0m\u001b[0;34m'latitude'\u001b[0m\u001b[0;34m,\u001b[0m\u001b[0;34m'longitude'\u001b[0m\u001b[0;34m]\u001b[0m\u001b[0;34m]\u001b[0m\u001b[0;34m,\u001b[0m \u001b[0msensor\u001b[0m\u001b[0;34m[\u001b[0m\u001b[0msensor_channel\u001b[0m\u001b[0;34m]\u001b[0m\u001b[0;34m.\u001b[0m\u001b[0mastype\u001b[0m\u001b[0;34m(\u001b[0m\u001b[0mnp\u001b[0m\u001b[0;34m.\u001b[0m\u001b[0mfloat\u001b[0m\u001b[0;34m)\u001b[0m\u001b[0;34m)\u001b[0m\u001b[0;34m\u001b[0m\u001b[0m\n\u001b[0;32m---> 28\u001b[0;31m     \u001b[0mdata_zv\u001b[0m \u001b[0;34m=\u001b[0m \u001b[0mdata_estimator\u001b[0m\u001b[0;34m.\u001b[0m\u001b[0mpredict\u001b[0m\u001b[0;34m(\u001b[0m\u001b[0mdata_xy\u001b[0m\u001b[0;34m)\u001b[0m\u001b[0;34m\u001b[0m\u001b[0m\n\u001b[0m\u001b[1;32m     29\u001b[0m     \u001b[0mdata_zv\u001b[0m \u001b[0;34m=\u001b[0m \u001b[0mdata_zv\u001b[0m\u001b[0;34m.\u001b[0m\u001b[0mreshape\u001b[0m\u001b[0;34m(\u001b[0m\u001b[0mdata_shape\u001b[0m\u001b[0;34m)\u001b[0m\u001b[0;34m.\u001b[0m\u001b[0mT\u001b[0m\u001b[0;34m\u001b[0m\u001b[0m\n\u001b[1;32m     30\u001b[0m \u001b[0;34m\u001b[0m\u001b[0m\n",
      "\u001b[0;32m/home/shawn/src/analytics/venv/local/lib/python2.7/site-packages/sklearn/neighbors/regression.pyc\u001b[0m in \u001b[0;36mpredict\u001b[0;34m(self, X)\u001b[0m\n\u001b[1;32m    290\u001b[0m         \u001b[0;32mif\u001b[0m \u001b[0mweights\u001b[0m \u001b[0;32mis\u001b[0m \u001b[0mNone\u001b[0m\u001b[0;34m:\u001b[0m\u001b[0;34m\u001b[0m\u001b[0m\n\u001b[1;32m    291\u001b[0m             y_pred = np.array([np.mean(_y[ind, :], axis=0)\n\u001b[0;32m--> 292\u001b[0;31m                                for ind in neigh_ind])\n\u001b[0m\u001b[1;32m    293\u001b[0m         \u001b[0;32melse\u001b[0m\u001b[0;34m:\u001b[0m\u001b[0;34m\u001b[0m\u001b[0m\n\u001b[1;32m    294\u001b[0m             y_pred = np.array([(np.average(_y[ind, :], axis=0,\n",
      "\u001b[0;32m/home/shawn/src/analytics/venv/local/lib/python2.7/site-packages/numpy/core/fromnumeric.pyc\u001b[0m in \u001b[0;36mmean\u001b[0;34m(a, axis, dtype, out, keepdims)\u001b[0m\n\u001b[1;32m   2907\u001b[0m \u001b[0;34m\u001b[0m\u001b[0m\n\u001b[1;32m   2908\u001b[0m     return _methods._mean(a, axis=axis, dtype=dtype,\n\u001b[0;32m-> 2909\u001b[0;31m                           out=out, **kwargs)\n\u001b[0m\u001b[1;32m   2910\u001b[0m \u001b[0;34m\u001b[0m\u001b[0m\n\u001b[1;32m   2911\u001b[0m \u001b[0;34m\u001b[0m\u001b[0m\n",
      "\u001b[0;32m/home/shawn/src/analytics/venv/local/lib/python2.7/site-packages/numpy/core/_methods.pyc\u001b[0m in \u001b[0;36m_mean\u001b[0;34m(a, axis, dtype, out, keepdims)\u001b[0m\n\u001b[1;32m     58\u001b[0m     \u001b[0;31m# Make this warning show up first\u001b[0m\u001b[0;34m\u001b[0m\u001b[0;34m\u001b[0m\u001b[0m\n\u001b[1;32m     59\u001b[0m     \u001b[0;32mif\u001b[0m \u001b[0mrcount\u001b[0m \u001b[0;34m==\u001b[0m \u001b[0;36m0\u001b[0m\u001b[0;34m:\u001b[0m\u001b[0;34m\u001b[0m\u001b[0m\n\u001b[0;32m---> 60\u001b[0;31m         \u001b[0mwarnings\u001b[0m\u001b[0;34m.\u001b[0m\u001b[0mwarn\u001b[0m\u001b[0;34m(\u001b[0m\u001b[0;34m\"Mean of empty slice.\"\u001b[0m\u001b[0;34m,\u001b[0m \u001b[0mRuntimeWarning\u001b[0m\u001b[0;34m,\u001b[0m \u001b[0mstacklevel\u001b[0m\u001b[0;34m=\u001b[0m\u001b[0;36m2\u001b[0m\u001b[0;34m)\u001b[0m\u001b[0;34m\u001b[0m\u001b[0m\n\u001b[0m\u001b[1;32m     61\u001b[0m \u001b[0;34m\u001b[0m\u001b[0m\n\u001b[1;32m     62\u001b[0m     \u001b[0;31m# Cast bool, unsigned int, and int to float64 by default\u001b[0m\u001b[0;34m\u001b[0m\u001b[0;34m\u001b[0m\u001b[0m\n",
      "\u001b[0;31mKeyboardInterrupt\u001b[0m: "
     ]
    }
   ],
   "source": [
    "## Add a data overlay for the map\n",
    "data_padding = [0.0001, 0.0001]   # degrees lat/lon\n",
    "data_resolution = [0.00001, 0.00001] # degrees lat/lon\n",
    "data_interpolation_radius = 0.0002 # degrees lat/lon\n",
    "data_bounds = [(position.min() - data_padding).tolist(),\n",
    "               (position.max() + data_padding).tolist()]\n",
    "print position.min()\n",
    "print position.max()\n",
    "print data_resolution\n",
    "\n",
    "# Create a rectangular grid of overlay points.\n",
    "data_xv, data_yv = np.meshgrid(\n",
    "    np.arange(data_bounds[1][0], data_bounds[0][0], -data_resolution[0]),\n",
    "    np.arange(data_bounds[0][1], data_bounds[1][1], data_resolution[1])\n",
    ")\n",
    "data_shape = data_xv.shape\n",
    "data_xy = np.vstack([data_xv.ravel(), data_yv.ravel()]).T\n",
    "\n",
    "if sensor_name in data:\n",
    "    # Create a radial-basis interpolator over the sensor dataset\n",
    "    # Then, query it at each point of the rectangular grid.\n",
    "    #from sklearn.neighbors import RadiusNeighborsClassifier\n",
    "    #data_estimator = RadiusNeighborsClassifier(radius=data_interpolation_radius, outlier_label=np.nan)\n",
    "    from sklearn.neighbors import RadiusNeighborsRegressor\n",
    "    data_estimator = RadiusNeighborsRegressor(radius=data_interpolation_radius)\n",
    "\n",
    "    data_estimator.fit(sensor[['latitude','longitude']], sensor[sensor_channel].astype(np.float))\n",
    "    data_zv = data_estimator.predict(data_xy)\n",
    "    data_zv = data_zv.reshape(data_shape).T\n",
    "\n",
    "    # Normalize data from [0, 1)\n",
    "    data_max = data_zv[np.isfinite(data_zv)].max()\n",
    "    data_min = data_zv[np.isfinite(data_zv)].min()\n",
    "    print \"Data min = {:f}   Data max = {:f}\".format(data_min, data_max)\n",
    "    NORMALIZER = data_max # 800\n",
    "    data_zv = (data_zv - data_min) / (NORMALIZER - data_min)\n"
   ]
  },
  {
   "cell_type": "code",
   "execution_count": 14,
   "metadata": {
    "scrolled": false
   },
   "outputs": [
    {
     "name": "stdout",
     "output_type": "stream",
     "text": [
      "removing file: ./platypus_data_f5ac49ed-6ff4-49f2-b515-0c18c4a248cf.png\n"
     ]
    },
    {
     "name": "stderr",
     "output_type": "stream",
     "text": [
      "/home/shawn/src/analytics/venv/lib/python2.7/site-packages/ipykernel_launcher.py:15: DeprecationWarning: `imsave` is deprecated!\n",
      "`imsave` is deprecated in SciPy 1.0.0, and will be removed in 1.2.0.\n",
      "Use ``imageio.imwrite`` instead.\n",
      "  from ipykernel import kernelapp as app\n"
     ]
    }
   ],
   "source": [
    "\n",
    "if sensor_name in data:\n",
    "    # Update a color map only at the points that have valid values.\n",
    "    data_rgb = np.zeros((data_shape[0], data_shape[1], 4), dtype=np.uint8)\n",
    "    data_rgb = matplotlib.cm.jet(data_zv) * 255\n",
    "    data_rgb[:,:,3] = 255 * np.isfinite(data_zv)\n",
    "\n",
    "    # Remove any old image files.\n",
    "    old_png_files = glob.glob('./*.png')\n",
    "    for old_png_file in old_png_files:\n",
    "        print \"removing file: \" + old_png_file\n",
    "        os.remove(old_png_file)\n",
    "\n",
    "    png_filename = './platypus_data_{:s}.png'.format(uuid.uuid4())\n",
    "    scipy.misc.imsave(png_filename, data_rgb)\n",
    "\n",
    "    # Create image overlay that references generated image.\n",
    "    io = ImageOverlay(url=png_filename, bounds=data_bounds)"
   ]
  },
  {
   "cell_type": "code",
   "execution_count": 15,
   "metadata": {
    "scrolled": false
   },
   "outputs": [
    {
     "data": {
      "application/vnd.jupyter.widget-view+json": {
       "model_id": "faf94d69a0094da2b0179e36f986344b",
       "version_major": 2,
       "version_minor": 0
      },
      "text/html": [
       "<p>Failed to display Jupyter Widget of type <code>Map</code>.</p>\n",
       "<p>\n",
       "  If you're reading this message in the Jupyter Notebook or JupyterLab Notebook, it may mean\n",
       "  that the widgets JavaScript is still loading. If this message persists, it\n",
       "  likely means that the widgets JavaScript library is either not installed or\n",
       "  not enabled. See the <a href=\"https://ipywidgets.readthedocs.io/en/stable/user_install.html\">Jupyter\n",
       "  Widgets Documentation</a> for setup instructions.\n",
       "</p>\n",
       "<p>\n",
       "  If you're reading this message in another frontend (for example, a static\n",
       "  rendering on GitHub or <a href=\"https://nbviewer.jupyter.org/\">NBViewer</a>),\n",
       "  it may mean that your frontend doesn't currently support widgets.\n",
       "</p>\n"
      ],
      "text/plain": [
       "Map(center=[51.983079299809056, 4.288419291357442], layers=(TileLayer(attribution=u'Map data (c) <a href=\"https://openstreetmap.org\">OpenStreetMap</a> contributors', options=[u'opacity', u'attribution', u'max_zoom', u'detect_retina', u'min_zoom', u'tile_size'], url=u'https://{s}.tile.openstreetmap.org/{z}/{x}/{y}.png'), ImageOverlay(bounds=[[51.98242187260349, 4.285285712486869], [51.98466966749721, 4.28902748295083]], options=[u'opacity', u'attribution'], url=u'./platypus_data_c40dd200-a93e-4ba2-9a7e-b3c193762c00.png')), layout=Layout(align_self=u'stretch', height=u'400px'), options=[u'keyboard_pan_offset', u'tap', u'attribution_control', u'max_zoom', u'min_zoom', u'bounce_at_zoom_limits', u'keyboard', u'scroll_wheel_zoom', u'dragging', u'inertia_max_speed', u'close_popup_on_click', u'zoom_control', u'box_zoom', u'double_click_zoom', u'tap_tolerance', u'zoom_start', u'keyboard_zoom_offset', u'inertia_deceleration', u'inertia', u'center', u'zoom', u'world_copy_jump', u'zoom_animation_threshold', u'touch_zoom'], zoom=14)"
      ]
     },
     "metadata": {},
     "output_type": "display_data"
    },
    {
     "data": {
      "image/png": "[encoded data removed]",
      "text/plain": [
       "<matplotlib.figure.Figure at 0x7fdbe3111190>"
      ]
     },
     "metadata": {},
     "output_type": "display_data"
    }
   ],
   "source": [
    "\n",
    "# Create a map centered on this data log.\n",
    "center = [pose['latitude'].median(), pose['longitude'].median()]\n",
    "# print center\n",
    "zoom = 14\n",
    "m = Map(center=center, zoom=zoom, height='1300px')\n",
    "if sensor_name in data:\n",
    "    m += io # Add image overlay\n",
    "if sensor_name not in data:\n",
    "    m += pl # Add vehicle trail, but only if there isn't heatmap data to look at\n",
    "\n",
    "# Make a figure and axes with dimensions as desired.\n",
    "fig = pyplot.figure(figsize=(15, 3))\n",
    "ax1 = fig.add_axes([0.05, 0.80, 0.9, 0.15])\n",
    "\n",
    "if sensor_name in data:\n",
    "    # Set the colormap and norm to correspond to the data for which\n",
    "    # the colorbar will be used.        \n",
    "    cmap = matplotlib.cm.jet\n",
    "    norm = matplotlib.colors.Normalize(vmin=data_min, vmax=NORMALIZER)\n",
    "    cb1 = matplotlib.colorbar.ColorbarBase(ax1, cmap=cmap,\n",
    "                                           norm=norm,\n",
    "                                           orientation='horizontal')\n",
    "    cb1.set_label(sensor_units)\n",
    "\n",
    "png_filename = './platypus_data_{:s}.png'.format(uuid.uuid4())\n",
    "pyplot.savefig(png_filename)\n",
    "# pyplot.show()\n",
    "m"
   ]
  },
  {
   "cell_type": "code",
   "execution_count": null,
   "metadata": {},
   "outputs": [],
   "source": []
  }
 ],
 "metadata": {
  "kernelspec": {
   "display_name": "Python 2",
   "language": "python",
   "name": "python2"
  },
  "language_info": {
   "codemirror_mode": {
    "name": "ipython",
    "version": 2
   },
   "file_extension": ".py",
   "mimetype": "text/x-python",
   "name": "python",
   "nbconvert_exporter": "python",
   "pygments_lexer": "ipython2",
   "version": "2.7.12"
  },
  "widgets": {
   "state": {
    "353ccbbc0ff94b5bbe0afcc012b3fd5c": {
     "views": [
      {
       "cell_index": 6
      }
     ]
    }
   },
   "version": "1.2.0"
  }
 },
 "nbformat": 4,
 "nbformat_minor": 1
}

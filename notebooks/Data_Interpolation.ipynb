{
 "cells": [
  {
   "cell_type": "code",
   "execution_count": null,
   "metadata": {
    "collapsed": false
   },
   "outputs": [],
   "source": [
    "import numpy as np\n",
    "import numpy.lib.recfunctions\n",
    "import scipy\n",
    "import scipy.interpolate\n",
    "import pandas\n",
    "import platypus.io.logs"
   ]
  },
  {
   "cell_type": "code",
   "execution_count": null,
   "metadata": {
    "collapsed": false
   },
   "outputs": [],
   "source": [
    "# Import the data from the specified logfile\n",
    "log_filename = '../logs/platypus_20161126_150201.txt'\n",
    "data = platypus.io.logs.load(log_filename)\n",
    "\n",
    "# Define useful access variables.\n",
    "pose = data['pose']\n",
    "position = pose[['latitude', 'longitude']]\n",
    "\n",
    "# Print the available sensors and channels for this logfile.\n",
    "print \"Available sensors/channels:\"\n",
    "for s in data.keys():\n",
    "    if s == 'pose' or s == 'BATTERY':\n",
    "        continue\n",
    "    for c in data[s].dtypes.keys():\n",
    "        print \"  {:s}, {:s}\".format(s, str(c))"
   ]
  },
  {
   "cell_type": "code",
   "execution_count": null,
   "metadata": {
    "collapsed": true
   },
   "outputs": [],
   "source": [
    "# Select the sensor and the name of the channel for that sensor.\n",
    "sensor_name = 'ATLAS_DO'\n",
    "sensor_data = 'do'"
   ]
  },
  {
   "cell_type": "code",
   "execution_count": null,
   "metadata": {
    "collapsed": false
   },
   "outputs": [],
   "source": [
    "# Extract the pose timing and the sensor data of interest.\n",
    "pose_times = pose.index.values.astype(np.float64)\n",
    "\n",
    "sensor = data[sensor_name]\n",
    "sensor_times = sensor.index.values.astype(np.float64)\n",
    "\n",
    "# Linearly interpolate the position of the sensor at every sample.\n",
    "sensor_pose_interpolator = scipy.interpolate.interp1d(pose_times, pose[['latitude', 'longitude']],\n",
    "                                                      axis=0, bounds_error=False)\n",
    "\n",
    "# Add the position information back to the sensor data.\n",
    "sensor = sensor.join(pandas.DataFrame(sensor_pose_interpolator(sensor_times), sensor.index,\n",
    "                                      columns=('latitude', 'longitude')))\n",
    "\n",
    "# Remove columns that have NaN values (no pose information).\n",
    "sensor_valid = np.all(np.isfinite(sensor), axis=1)\n",
    "sensor = sensor[sensor_valid]"
   ]
  },
  {
   "cell_type": "code",
   "execution_count": null,
   "metadata": {
    "collapsed": false
   },
   "outputs": [],
   "source": []
  },
  {
   "cell_type": "code",
   "execution_count": null,
   "metadata": {
    "collapsed": false
   },
   "outputs": [],
   "source": [
    "from ipyleaflet import (\n",
    "    Map,\n",
    "    Marker,\n",
    "    TileLayer, ImageOverlay,\n",
    "    Polyline, Polygon, Rectangle, Circle, CircleMarker,\n",
    "    GeoJSON,\n",
    "    DrawControl\n",
    ")"
   ]
  },
  {
   "cell_type": "code",
   "execution_count": null,
   "metadata": {
    "collapsed": false
   },
   "outputs": [],
   "source": [
    "# Create a map centered on this data log.\n",
    "center = [pose['latitude'].median(), pose['longitude'].median()]\n",
    "zoom = 17\n",
    "m = Map(center=center, zoom=zoom)\n",
    "m"
   ]
  },
  {
   "cell_type": "code",
   "execution_count": null,
   "metadata": {
    "collapsed": false
   },
   "outputs": [],
   "source": [
    "# Add trail for the vehicle to map\n",
    "pl = Polyline(locations=position.as_matrix().tolist())\n",
    "pl.fill_opacity = 0.0\n",
    "pl.weight = 2\n",
    "m += pl"
   ]
  },
  {
   "cell_type": "code",
   "execution_count": null,
   "metadata": {
    "collapsed": false
   },
   "outputs": [],
   "source": [
    "# Add a data overlay for the map\n",
    "data_padding = 0.0001  # degrees lat/lon\n",
    "data_bounds = [(position.min() - data_padding).tolist(),\n",
    "               (position.max() + data_padding).tolist()]\n",
    "\n",
    "data_grid = xv, yv = meshgrid(x, y, sparse=False, indexing='ij')\n",
    "\n",
    "io = ImageOverlay(url='http://ipython.org/_static/IPy_header.png', bounds=data_bounds)\n",
    "m += io"
   ]
  },
  {
   "cell_type": "code",
   "execution_count": null,
   "metadata": {
    "collapsed": false
   },
   "outputs": [],
   "source": [
    "m.bounds"
   ]
  },
  {
   "cell_type": "code",
   "execution_count": null,
   "metadata": {
    "collapsed": true
   },
   "outputs": [],
   "source": []
  }
 ],
 "metadata": {
  "kernelspec": {
   "display_name": "Python 2",
   "language": "python",
   "name": "python2"
  },
  "language_info": {
   "codemirror_mode": {
    "name": "ipython",
    "version": 2
   },
   "file_extension": ".py",
   "mimetype": "text/x-python",
   "name": "python",
   "nbconvert_exporter": "python",
   "pygments_lexer": "ipython2",
   "version": "2.7.12"
  },
  "widgets": {
   "state": {
    "48b6b0a628a84124a497bdef12f2ff15": {
     "views": [
      {
       "cell_index": 6
      }
     ]
    }
   },
   "version": "1.2.0"
  }
 },
 "nbformat": 4,
 "nbformat_minor": 0
}

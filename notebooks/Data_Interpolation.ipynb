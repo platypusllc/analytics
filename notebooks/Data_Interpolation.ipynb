{
 "cells": [
  {
   "cell_type": "code",
   "execution_count": null,
   "metadata": {
    "collapsed": false
   },
   "outputs": [],
   "source": [
    "%matplotlib inline\n",
    "\n",
    "import numpy as np\n",
    "import numpy.lib.recfunctions\n",
    "import scipy\n",
    "import scipy.interpolate\n",
    "import pandas\n",
    "import matplotlib.pyplot as plt\n",
    "import platypus.io.logs"
   ]
  },
  {
   "cell_type": "code",
   "execution_count": null,
   "metadata": {
    "collapsed": true
   },
   "outputs": [],
   "source": [
    "# Import the data from the specified logfile\n",
    "log_filename = '../logs/platypus_20161126_150201.txt'\n",
    "data = platypus.io.logs.load(log_filename)"
   ]
  },
  {
   "cell_type": "code",
   "execution_count": null,
   "metadata": {
    "collapsed": false
   },
   "outputs": [],
   "source": [
    "# Print the available sensors and channels for this logfile.\n",
    "print \"Available sensors/channels:\"\n",
    "for s in data.keys():\n",
    "    if s == 'pose' or s == 'BATTERY':\n",
    "        continue\n",
    "    for c in data[s].dtypes.keys():\n",
    "        print \"  {:s}, {:s}\".format(s, str(c))"
   ]
  },
  {
   "cell_type": "code",
   "execution_count": null,
   "metadata": {
    "collapsed": true
   },
   "outputs": [],
   "source": [
    "# Select the sensor and the name of the channel for that sensor.\n",
    "sensor_name = 'ATLAS_DO'\n",
    "sensor_data = 'do'"
   ]
  },
  {
   "cell_type": "code",
   "execution_count": null,
   "metadata": {
    "collapsed": false
   },
   "outputs": [],
   "source": [
    "# Extract the pose and the sensor data of interest.\n",
    "pose = data['pose']\n",
    "pose_times = pose.index.values.astype(np.float64)\n",
    "\n",
    "sensor = data[sensor_name]\n",
    "sensor_times = sensor.index.values.astype(np.float64)\n",
    "\n",
    "# Linearly interpolate the position of the sensor at every sample.\n",
    "sensor_pose_interpolator = scipy.interpolate.interp1d(pose_times, pose[['latitude', 'longitude']],\n",
    "                                                      axis=0, bounds_error=False)\n",
    "\n",
    "# Add the position information back to the sensor data.\n",
    "sensor = sensor.join(pandas.DataFrame(sensor_pose_interpolator(sensor_times), sensor.index,\n",
    "                                      columns=('latitude', 'longitude')))\n",
    "\n",
    "# Remove columns that have NaN values (no pose information).\n",
    "sensor_valid = np.all(np.isfinite(sensor), axis=1)\n",
    "sensor = sensor[sensor_valid]"
   ]
  },
  {
   "cell_type": "code",
   "execution_count": null,
   "metadata": {
    "collapsed": false
   },
   "outputs": [],
   "source": [
    "## Create a 2D surface plot\n",
    "\n",
    "# Create matrices of the positions and data values.\n",
    "points = sensor[['latitude', 'longitude']].as_matrix()\n",
    "values = sensor[sensor_data]\n",
    "\n",
    "# Create a grid over the range of the data.\n",
    "grid_x, grid_y = np.mgrid[sensor.latitude.max():sensor.latitude.min():1000j,\n",
    "                          sensor.longitude.min():sensor.longitude.max():1000j]\n",
    "grid_z = scipy.interpolate.griddata(points, values, (grid_x, grid_y), method='cubic')\n",
    "\n",
    "# Plot the sensor data as an image.\n",
    "fig = plt.figure(figsize=(20,10))\n",
    "plt.imshow(grid_z, aspect='equal', cmap='Greys',\n",
    "           extent=[sensor.longitude.min(), sensor.longitude.max(),\n",
    "                   sensor.latitude.min(), sensor.latitude.max()])\n",
    "\n",
    "plt.colorbar()\n",
    "plt.title(\"Sensor: \" + sensor_name + \"\\n\")\n",
    "plt.xlabel('Longitude (degrees)')\n",
    "plt.ylabel('Latitude (degrees)')\n",
    "plt.hold(True)\n",
    "\n",
    "# Plot the trajectory of the vehicle as an overlay.\n",
    "plt.plot(points[:,1], points[:,0], 'c-', linewidth=3)\n",
    "plt.plot(points[0,1], points[0,0], 'co')\n",
    "plt.show()\n",
    "\n",
    "# Save the figure to disk.\n",
    "fig.savefig(sensor_name + '.png', dpi=fig.dpi)"
   ]
  },
  {
   "cell_type": "code",
   "execution_count": null,
   "metadata": {
    "collapsed": false
   },
   "outputs": [],
   "source": [
    "## Create a 3D trail plot\n",
    "x = sensor['longitude'].as_matrix()\n",
    "y = sensor['latitude'].as_matrix()\n",
    "z = sensor[sensor_data].as_matrix()\n",
    "\n",
    "import matplotlib.cm as cm\n",
    "import matplotlib.colors as colors\n",
    "\n",
    "# Create normalized color entries for each sensor reading.\n",
    "norm = colors.Normalize(min(z), max(z))\n",
    "colors = cm.jet(norm(z))\n",
    "m = cm.ScalarMappable(cmap=cm.jet, norm=norm)\n",
    "m.set_array(colors)\n",
    "\n",
    "# Create a 3D plot that creates a vertical trail.\n",
    "from mpl_toolkits.mplot3d import Axes3D\n",
    "fig = plt.figure(figsize=(20,10))\n",
    "ax = fig.add_subplot(111, projection='3d')\n",
    "ax.bar3d(x, y, [min(z)] * len(z), 5e-5, 5e-5, z - min(z), color=colors, alpha=0.8, edgecolor='none')\n",
    "\n",
    "plt.xlabel('Longitude (degrees)')\n",
    "plt.ylabel('Latitude (degrees)')\n",
    "plt.title('Sensor: ' + sensor_name, fontsize=20)\n",
    "\n",
    "fig.colorbar(m, shrink=0.5, aspect=5)\n",
    "fig.show()\n",
    "\n",
    "# Save the figure to disk.\n",
    "fig.savefig(sensor_name + '_3d.png', dpi=fig.dpi)"
   ]
  },
  {
   "cell_type": "code",
   "execution_count": null,
   "metadata": {
    "collapsed": false
   },
   "outputs": [],
   "source": [
    "pose.index.values"
   ]
  }
 ],
 "metadata": {
  "kernelspec": {
   "display_name": "Python 2",
   "language": "python",
   "name": "python2"
  },
  "language_info": {
   "codemirror_mode": {
    "name": "ipython",
    "version": 2
   },
   "file_extension": ".py",
   "mimetype": "text/x-python",
   "name": "python",
   "nbconvert_exporter": "python",
   "pygments_lexer": "ipython2",
   "version": "2.7.9"
  }
 },
 "nbformat": 4,
 "nbformat_minor": 0
}

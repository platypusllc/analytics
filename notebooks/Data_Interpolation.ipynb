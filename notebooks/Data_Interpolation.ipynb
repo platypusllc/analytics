{
 "cells": [
  {
   "cell_type": "code",
   "execution_count": 3,
   "metadata": {},
   "outputs": [],
   "source": [
    "%matplotlib inline\n",
    "\n",
    "from ipyleaflet import Map, ImageOverlay, Polyline\n",
    "import matplotlib\n",
    "import matplotlib.cm\n",
    "from matplotlib import pyplot\n",
    "import numpy as np\n",
    "import numpy.lib.recfunctions\n",
    "import scipy\n",
    "import scipy.interpolate\n",
    "import pandas\n",
    "import platypus.io.logs\n",
    "import os\n",
    "import uuid\n",
    "import glob"
   ]
  },
  {
   "cell_type": "code",
   "execution_count": 14,
   "metadata": {
    "scrolled": false
   },
   "outputs": [
    {
     "name": "stdout",
     "output_type": "stream",
     "text": [
      "set([u'ATLAS_PH', u'BATTERY', 'pose', u'ATLAS_DO', u'ES2'])\n",
      "ES2 sensor is present. Trimming all data within EC = 0 time windows\n",
      "\n",
      "Available sensors/channels:\n",
      "  ATLAS_PH, ph\n",
      "  ATLAS_DO, do\n",
      "  ES2, ec\n",
      "  ES2, temperature\n"
     ]
    }
   ],
   "source": [
    "# Import the data from the specified logfile\n",
    "\n",
    "log_ext = \".txt\"\n",
    "\n",
    "log_path = \"/home/shawn/NL2/day1/\"\n",
    "log_filenames = [\n",
    "#             log_path + \"platypus_20171117_034941.txt\",\n",
    "#             log_path + \"platypus_20171117_045142.txt\",\n",
    "#             log_path + \"platypus_20171117_052611.txt\",\n",
    "#             log_path + \"platypus_20171117_063759.txt\",\n",
    "#             log_path + \"platypus_20171117_083516.txt\",\n",
    "#             log_path + \"platypus_20171117_085402.txt\",\n",
    "#             log_path + \"platypus_20171117_092146.txt\",\n",
    "#             log_path + \"platypus_20171117_095701.txt\",\n",
    "#             log_path + \"platypus_20171117_102132.txt\",\n",
    "#             log_path + \"platypus_20171117_102340.txt\",\n",
    "#             log_path + \"platypus_20171117_103741.txt\",\n",
    "        ]\n",
    "\n",
    "# log_path = \"/home/shawn/day 2/\"\n",
    "# log_filenames = [\n",
    "#             log_path + \"platypus_20171119_081603.txt\",\n",
    "# #             log_path + \"platypus_20171119_093819.txt\",\n",
    "# #             log_path + \"platypus_20171119_102933.txt\",\n",
    "# #             log_path + \"platypus_20171119_105652.txt\",\n",
    "# #             log_path + \"platypus_20171119_105709.txt\",\n",
    "# #             log_path + \"platypus_20171119_112232.txt\"\n",
    "#         ]\n",
    "\n",
    "# log_path = \"/home/shawn/day 3/\"\n",
    "# log_filenames = [\n",
    "# #             log_path + \"platypus_20171120_040729.txt\",\n",
    "# #             log_path + \"platypus_20171120_052156.txt\",\n",
    "# #             log_path + \"platypus_20171120_065410.txt\",\n",
    "#             log_path + \"platypus_20171120_072029.txt\",\n",
    "#         ]\n",
    "\n",
    "# log_path = \"/home/shawn/day 4/\"\n",
    "# log_filenames = [\n",
    "# #             log_path + \"platypus_20171121_045529.txt\",\n",
    "# #             log_path + \"platypus_20171121_053515.txt\",\n",
    "# #             log_path + \"platypus_20171121_073237.txt\",\n",
    "#             log_path + \"platypus_20171121_074700.txt\",\n",
    "# #             log_path + \"platypus_20171121_084718.txt\",\n",
    "# #             log_path + \"platypus_20171121_092302.txt\",\n",
    "# #             log_path + \"platypus_20171121_095421.txt\",\n",
    "# #             log_path + \"platypus_20171121_101351.txt\",\n",
    "# #             log_path + \"platypus_20171121_103427.txt\",\n",
    "# #             log_path + \"platypus_20171121_103725.txt\",\n",
    "# #             log_path + \"platypus_20171121_110202.txt\",\n",
    "# #             log_path + \"platypus_20171121_113356.txt\"\n",
    "#         ]\n",
    "\n",
    "log_path = \"/home/shawn/NL2/nordpolder_van_delfgauw/\"\n",
    "log_filenames = [\n",
    "#     log_path + \"platypus_20180213_022417.txt\",\n",
    "#     log_path + \"platypus_20180213_030409.txt\",\n",
    "#     log_path + \"platypus_20180213_035212.txt\",\n",
    "#     log_path + \"platypus_20180213_042357.txt\",\n",
    "#     log_path + \"platypus_20180213_054659.txt\",\n",
    "#     log_path + \"platypus_20180213_060554.txt\",\n",
    "#     log_path + \"platypus_20180213_062547.txt\",\n",
    "#     log_path + \"platypus_20180213_065743.txt\",\n",
    "#     log_path + \"platypus_20180213_073112.txt\",\n",
    "#     log_path + \"platypus_20180213_074623.txt\",\n",
    "#     log_path + \"platypus_20180213_082044.txt\",\n",
    "#     log_path + \"platypus_20180213_085649.txt\",\n",
    "    log_path + \"platypus_20180215_040330.txt\"\n",
    "]\n",
    "\n",
    "log_path = \"/home/shawn/NL2/grokeneveldse_polder/grokeneveldse_polder_feb_2018/\"\n",
    "log_filenames = glob.glob(log_path+'/'+\"*.txt\")\n",
    "\n",
    "# log_path = \"/home/shawn/NL1/all_nov_2017/\"\n",
    "# log_filenames = glob.glob(log_path+'/'+\"*.txt\")\n",
    "\n",
    "csv_output_filename = \"grokeneveldse_polderNov2018Netherlands\"\n",
    "\n",
    "# data = platypus.io.logs.load(log_path + log_filename + log_ext)\n",
    "data = platypus.io.logs.merge_files(log_filenames)\n",
    "\n",
    "\n",
    "if \"ES2\" in data:\n",
    "    print \"ES2 sensor is present. Trimming all data within EC = 0 time windows\\n\"\n",
    "    # find all time windows where EC is exactly 0\n",
    "    ES2_data = data[\"ES2\"]\n",
    "    values = ES2_data[\"ec\"].values\n",
    "#     ec_eq_zero_indices = np.where(values == 0)[0]\n",
    "    ec_eq_zero_indices = np.where( (values < 50) | (values > 2000) )[0]\n",
    "#     ec_eq_zero_indices = np.where(values < 50)[0]\n",
    "    windows = list()\n",
    "    windows.append([ec_eq_zero_indices[0]])\n",
    "    left = ec_eq_zero_indices[0]\n",
    "    for ii in range(1, ec_eq_zero_indices.shape[0]):\n",
    "        i = ec_eq_zero_indices[ii]\n",
    "        if i - left > 5:\n",
    "            # there has been a jump in index, a new time window has started\n",
    "            windows[-1].append(left)\n",
    "            windows.append([i])\n",
    "        left = i\n",
    "    windows[-1].append(ec_eq_zero_indices[-1])\n",
    "    # print ec_eq_zero_indices\n",
    "    # print windows\n",
    "    for window in windows:\n",
    "        time_window = [ES2_data[\"ec\"].index.values[window[0]], ES2_data[\"ec\"].index.values[window[1]]]\n",
    "        for k in data:\n",
    "            data[k] = data[k].loc[np.logical_or(data[k].index < time_window[0], data[k].index > time_window[1])]\n",
    "else:\n",
    "    print \"No ES2 sensor present. No trimming will be performed.\"\n",
    "\n",
    "\n",
    "\n",
    "# if \"ATLAS_PH\" in data:\n",
    "#     print \"pH sensor is present. Trimming all data within pH < 6 time windows\\n\"\n",
    "#     # find all time windows where pH is less than 6\n",
    "#     pH_data = data[\"ATLAS_PH\"]\n",
    "#     values = pH_data[\"ph\"].values\n",
    "# #     pH_lt_6_indices = np.where( (values < 6) | (values > 8.5))[0]\n",
    "#     pH_lt_6_indices = np.where( (values < 6.5) )[0]\n",
    "#     windows = list()\n",
    "#     windows.append([pH_lt_6_indices[0]])\n",
    "#     left = pH_lt_6_indices[0]\n",
    "#     for ii in range(1, pH_lt_6_indices.shape[0]):\n",
    "#         i = pH_lt_6_indices[ii]\n",
    "#         if i - left > 5:\n",
    "#             windows[-1].append(left)\n",
    "#             windows.append([i])\n",
    "#         left = i\n",
    "#     windows[-1].append(pH_lt_6_indices[-1])\n",
    "#     for window in windows:\n",
    "#         time_window = [pH_data[\"ph\"].index.values[window[0]], pH_data[\"ph\"].index.values[window[1]]]\n",
    "#         for k in data:\n",
    "#             data[k] = data[k].loc[np.logical_or(data[k].index < time_window[0], data[k].index > time_window[1])]\n",
    "\n",
    "\n",
    "# Define useful access variables.\n",
    "pose = data['pose']\n",
    "position = pose[['latitude', 'longitude']]\n",
    "\n",
    "# Print the available sensors and channels for this logfile.\n",
    "print \"Available sensors/channels:\"\n",
    "for s in data.keys():\n",
    "    if s == 'pose' or s == 'BATTERY':\n",
    "        continue\n",
    "    for c in data[s].dtypes.keys():\n",
    "        print \"  {:s}, {:s}\".format(s, str(c))"
   ]
  },
  {
   "cell_type": "code",
   "execution_count": 15,
   "metadata": {},
   "outputs": [],
   "source": [
    "# Select the sensor and the name of the channel for that sensor.\n",
    "sensor_name = 'ATLAS_PH'\n",
    "sensor_channel = 'ph'\n",
    "sensor_units = \"pH\"\n",
    "\n",
    "sensor_name = 'ES2'\n",
    "sensor_channel = 'ec'\n",
    "sensor_units = 'Electrical Conductivity (uS/cm)'\n",
    "\n",
    "# sensor_name = 'ES2'\n",
    "# sensor_channel = 'temperature'\n",
    "# sensor_units = 'Temperature (C)'\n",
    "\n",
    "# sensor_name = 'ATLAS_DO'\n",
    "# sensor_channel = 'do'\n",
    "# sensor_units = 'Dissolved Oxygen (mg/L)'"
   ]
  },
  {
   "cell_type": "code",
   "execution_count": 16,
   "metadata": {
    "scrolled": true
   },
   "outputs": [],
   "source": [
    "# Extract the pose timing and the sensor data of interest.\n",
    "pose_times = pose.index.values.astype(np.float64)\n",
    "\n",
    "if sensor_name in data:\n",
    "    sensor = data[sensor_name]\n",
    "    sensor_times = sensor.index.values.astype(np.float64)\n",
    "\n",
    "    # Linearly interpolate the position of the sensor at every sample.\n",
    "    sensor_pose_interpolator = scipy.interpolate.interp1d(pose_times, position,\n",
    "                                                          axis=0, bounds_error=False)\n",
    "\n",
    "    # Add the position information back to the sensor data.\n",
    "    sensor = sensor.join(pandas.DataFrame(sensor_pose_interpolator(sensor_times), sensor.index,\n",
    "                                          columns=('latitude', 'longitude')))\n",
    "    \n",
    "    # print sensor data to csv file\n",
    "    sensor.to_csv(log_path + csv_output_filename + \"__\" + sensor_name + \".csv\")\n",
    "\n",
    "    # Remove columns that have NaN values (no pose information).\n",
    "    sensor_valid = np.all(np.isfinite(sensor), axis=1)\n",
    "    sensor = sensor[sensor_valid]"
   ]
  },
  {
   "cell_type": "code",
   "execution_count": 17,
   "metadata": {},
   "outputs": [],
   "source": [
    "# Create a trail of the vehicle's path on the map.\n",
    "pl = Polyline(locations=position.as_matrix().tolist())\n",
    "pl.fill_opacity = 0.0\n",
    "pl.weight = 2"
   ]
  },
  {
   "cell_type": "code",
   "execution_count": 18,
   "metadata": {
    "scrolled": false
   },
   "outputs": [
    {
     "name": "stdout",
     "output_type": "stream",
     "text": [
      "latitude     51.980277\n",
      "longitude     4.258412\n",
      "dtype: float64\n",
      "latitude     51.994885\n",
      "longitude     4.290340\n",
      "dtype: float64\n",
      "[1e-05, 1e-05]\n",
      "Data min = 50.000000   Data max = 1767.000000\n"
     ]
    }
   ],
   "source": [
    "## Add a data overlay for the map\n",
    "data_padding = [0.0001, 0.0001]   # degrees lat/lon\n",
    "data_resolution = [0.00001, 0.00001] # degrees lat/lon\n",
    "data_interpolation_radius = 0.0002 # degrees lat/lon\n",
    "data_bounds = [(position.min() - data_padding).tolist(),\n",
    "               (position.max() + data_padding).tolist()]\n",
    "print position.min()\n",
    "print position.max()\n",
    "print data_resolution\n",
    "\n",
    "# Create a rectangular grid of overlay points.\n",
    "data_xv, data_yv = np.meshgrid(\n",
    "    np.arange(data_bounds[1][0], data_bounds[0][0], -data_resolution[0]),\n",
    "    np.arange(data_bounds[0][1], data_bounds[1][1], data_resolution[1])\n",
    ")\n",
    "data_shape = data_xv.shape\n",
    "data_xy = np.vstack([data_xv.ravel(), data_yv.ravel()]).T\n",
    "\n",
    "if sensor_name in data:\n",
    "    # Create a radial-basis interpolator over the sensor dataset\n",
    "    # Then, query it at each point of the rectangular grid.\n",
    "    #from sklearn.neighbors import RadiusNeighborsClassifier\n",
    "    #data_estimator = RadiusNeighborsClassifier(radius=data_interpolation_radius, outlier_label=np.nan)\n",
    "    from sklearn.neighbors import RadiusNeighborsRegressor\n",
    "    data_estimator = RadiusNeighborsRegressor(radius=data_interpolation_radius)\n",
    "\n",
    "    data_estimator.fit(sensor[['latitude','longitude']], sensor[sensor_channel].astype(np.float))\n",
    "    data_zv = data_estimator.predict(data_xy)\n",
    "    data_zv = data_zv.reshape(data_shape).T\n",
    "\n",
    "    # Normalize data from [0, 1)\n",
    "    data_max = data_zv[np.isfinite(data_zv)].max()\n",
    "    data_min = data_zv[np.isfinite(data_zv)].min()\n",
    "    print \"Data min = {:f}   Data max = {:f}\".format(data_min, data_max)\n",
    "    NORMALIZER = data_max # 800\n",
    "    data_zv = (data_zv - data_min) / (NORMALIZER - data_min)\n"
   ]
  },
  {
   "cell_type": "code",
   "execution_count": 19,
   "metadata": {
    "scrolled": false
   },
   "outputs": [
    {
     "name": "stdout",
     "output_type": "stream",
     "text": [
      "removing file: ./platypus_data_39efe574-e0e4-4275-9725-c022ef98ff09.png\n",
      "removing file: ./platypus_data_59589915-d7f5-4605-b8b1-2b99f8341d7f.png\n",
      "removing file: ./platypus_data_54d1e0c2-83d4-4bde-9374-1dfe81a9cbf7.png\n"
     ]
    },
    {
     "name": "stderr",
     "output_type": "stream",
     "text": [
      "/home/shawn/src/analytics/venv/lib/python2.7/site-packages/ipykernel_launcher.py:15: DeprecationWarning: `imsave` is deprecated!\n",
      "`imsave` is deprecated in SciPy 1.0.0, and will be removed in 1.2.0.\n",
      "Use ``imageio.imwrite`` instead.\n",
      "  from ipykernel import kernelapp as app\n",
      "/home/shawn/src/analytics/venv/lib/python2.7/site-packages/ipykernel_launcher.py:21: DeprecationWarning: `imsave` is deprecated!\n",
      "`imsave` is deprecated in SciPy 1.0.0, and will be removed in 1.2.0.\n",
      "Use ``imageio.imwrite`` instead.\n"
     ]
    }
   ],
   "source": [
    "\n",
    "if sensor_name in data:\n",
    "    # Update a color map only at the points that have valid values.\n",
    "    data_rgb = np.zeros((data_shape[0], data_shape[1], 4), dtype=np.uint8)\n",
    "    data_rgb = matplotlib.cm.jet(data_zv) * 255\n",
    "    data_rgb[:,:,3] = 255 * np.isfinite(data_zv)\n",
    "\n",
    "    # Remove any old image files.\n",
    "    old_png_files = glob.glob('./*.png')\n",
    "    for old_png_file in old_png_files:\n",
    "        print \"removing file: \" + old_png_file\n",
    "        os.remove(old_png_file)\n",
    "\n",
    "    png_filename = './platypus_data_{:s}.png'.format(uuid.uuid4())\n",
    "    scipy.misc.imsave(png_filename, data_rgb)\n",
    "\n",
    "    # Create image overlay that references generated image.\n",
    "    \n",
    "    data_rgb2 = np.ones((data_shape[0], data_shape[1], 4), dtype=np.uint8) * 50\n",
    "    png_filename2 = './platypus_data_{:s}.png'.format(uuid.uuid4())\n",
    "    scipy.misc.imsave(png_filename2, data_rgb2)\n",
    "    \n",
    "    data_bounds2 = [(position.min() - [x * 500 for x in data_padding]).tolist(),\n",
    "                    (position.max() + [x * 500 for x in data_padding]).tolist()]\n",
    "    io_blank = ImageOverlay(url=png_filename2, bounds=data_bounds2)\n",
    "    io = ImageOverlay(url=png_filename, bounds=data_bounds)"
   ]
  },
  {
   "cell_type": "code",
   "execution_count": 20,
   "metadata": {
    "scrolled": false
   },
   "outputs": [
    {
     "data": {
      "application/vnd.jupyter.widget-view+json": {
       "model_id": "4d5c4498fc894dafafea4d8a8127f135",
       "version_major": 2,
       "version_minor": 0
      },
      "text/html": [
       "<p>Failed to display Jupyter Widget of type <code>Map</code>.</p>\n",
       "<p>\n",
       "  If you're reading this message in the Jupyter Notebook or JupyterLab Notebook, it may mean\n",
       "  that the widgets JavaScript is still loading. If this message persists, it\n",
       "  likely means that the widgets JavaScript library is either not installed or\n",
       "  not enabled. See the <a href=\"https://ipywidgets.readthedocs.io/en/stable/user_install.html\">Jupyter\n",
       "  Widgets Documentation</a> for setup instructions.\n",
       "</p>\n",
       "<p>\n",
       "  If you're reading this message in another frontend (for example, a static\n",
       "  rendering on GitHub or <a href=\"https://nbviewer.jupyter.org/\">NBViewer</a>),\n",
       "  it may mean that your frontend doesn't currently support widgets.\n",
       "</p>\n"
      ],
      "text/plain": [
       "Map(basemap={'url': 'https://{s}.tile.openstreetmap.org/{z}/{x}/{y}.png', 'max_zoom': 19, 'attribution': 'Map data (c) <a href=\"https://openstreetmap.org\">OpenStreetMap</a> contributors'}, center=[51.98821600381582, 4.273220401404014], default_tiles=TileLayer(base=True, max_zoom=19, min_zoom=1, options=[u'attribution', u'tile_size', u'min_zoom', u'max_zoom', u'detect_retina']), layers=(TileLayer(base=True, max_zoom=19, min_zoom=1, options=[u'attribution', u'tile_size', u'min_zoom', u'max_zoom', u'detect_retina']), ImageOverlay(bounds=[[51.93027687210173, 4.208411660165766], [52.044884747375924, 4.340339612362805]], options=[u'attribution'], url=u'./platypus_data_80269d7c-3e75-422d-a1aa-4fc6fea7142d.png'), ImageOverlay(bounds=[[51.98017687210172, 4.2583116601657665], [51.99498474737593, 4.290439612362805]], options=[u'attribution'], url=u'./platypus_data_8ed61f17-ad09-414c-b667-33defd6c53c6.png')), options=[u'keyboard_pan_offset', u'tap', u'attribution_control', u'max_zoom', u'min_zoom', u'bounce_at_zoom_limits', u'keyboard', u'scroll_wheel_zoom', u'dragging', u'inertia_max_speed', u'close_popup_on_click', u'zoom_control', u'box_zoom', u'double_click_zoom', u'tap_tolerance', u'zoom_start', u'keyboard_zoom_offset', u'inertia_deceleration', u'inertia', u'center', u'zoom', u'world_copy_jump', u'zoom_animation_threshold', u'touch_zoom', u'basemap'], zoom=14)"
      ]
     },
     "metadata": {},
     "output_type": "display_data"
    },
    {
     "data": {
      "image/png": "[encoded data removed]",
      "text/plain": [
       "<Figure size 1080x216 with 1 Axes>"
      ]
     },
     "metadata": {},
     "output_type": "display_data"
    }
   ],
   "source": [
    "\n",
    "# Create a map centered on this data log.\n",
    "center = [pose['latitude'].median(), pose['longitude'].median()]\n",
    "# print center\n",
    "zoom = 14\n",
    "m = Map(center=center, zoom=zoom, height='1300px')\n",
    "if sensor_name in data:\n",
    "    m += io_blank\n",
    "    m += io # Add image overlay\n",
    "if sensor_name not in data:\n",
    "    m += pl # Add vehicle trail, but only if there isn't heatmap data to look at\n",
    "\n",
    "# Make a figure and axes with dimensions as desired.\n",
    "fig = pyplot.figure(figsize=(15, 3))\n",
    "ax1 = fig.add_axes([0.05, 0.80, 0.9, 0.15])\n",
    "\n",
    "if sensor_name in data:\n",
    "    # Set the colormap and norm to correspond to the data for which\n",
    "    # the colorbar will be used.        \n",
    "    cmap = matplotlib.cm.jet\n",
    "    norm = matplotlib.colors.Normalize(vmin=data_min, vmax=NORMALIZER)\n",
    "    cb1 = matplotlib.colorbar.ColorbarBase(ax1, cmap=cmap,\n",
    "                                           norm=norm,\n",
    "                                           orientation='horizontal')\n",
    "    cb1.set_label(sensor_units)\n",
    "\n",
    "png_filename = './platypus_data_{:s}.png'.format(uuid.uuid4())\n",
    "pyplot.savefig(png_filename)\n",
    "# pyplot.show()\n",
    "m"
   ]
  },
  {
   "cell_type": "code",
   "execution_count": null,
   "metadata": {},
   "outputs": [],
   "source": []
  }
 ],
 "metadata": {
  "kernelspec": {
   "display_name": "Python 2",
   "language": "python",
   "name": "python2"
  },
  "language_info": {
   "codemirror_mode": {
    "name": "ipython",
    "version": 2
   },
   "file_extension": ".py",
   "mimetype": "text/x-python",
   "name": "python",
   "nbconvert_exporter": "python",
   "pygments_lexer": "ipython2",
   "version": "2.7.12"
  },
  "widgets": {
   "state": {
    "353ccbbc0ff94b5bbe0afcc012b3fd5c": {
     "views": [
      {
       "cell_index": 6
      }
     ]
    }
   },
   "version": "1.2.0"
  }
 },
 "nbformat": 4,
 "nbformat_minor": 1
}

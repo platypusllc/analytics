{
 "cells": [
  {
   "cell_type": "markdown",
   "metadata": {},
   "source": [
    "## Log Data Exporter - Combined Sensor CSV\n",
    "This data exporter takes a log file and exports it to a single CSV files, with data values for each sensor.\n",
    "\n",
    "Since each sensor is exported together, these CSV files will have interpolated data values.  This is because each row represents an update in _one_ sensor value, but there must be valid entries for the other sensors at the time. The values of all of the other sensors will be interpolated to the nearest valid reading (in time) for these events."
   ]
  },
  {
   "cell_type": "code",
   "execution_count": null,
   "metadata": {
    "collapsed": false
   },
   "outputs": [],
   "source": [
    "import numpy as np\n",
    "import pandas\n",
    "import platypus.io.logs\n",
    "import os"
   ]
  },
  {
   "cell_type": "code",
   "execution_count": null,
   "metadata": {
    "collapsed": false
   },
   "outputs": [],
   "source": [
    "# Import the data from the specified logfile\n",
    "log_filename = '../logs/platypus_20161126_161922.txt'\n",
    "data = platypus.io.logs.load(log_filename)\n",
    "\n",
    "# To selectively export certain sensors, change this value to an array of names.\n",
    "# By default, all sensors are exported (meaning they are also interpolated).\n",
    "sensor_names = None\n",
    "# sensor_names = ['ATLAS_DO', 'ES2']"
   ]
  },
  {
   "cell_type": "code",
   "execution_count": null,
   "metadata": {
    "collapsed": false
   },
   "outputs": [],
   "source": [
    "# Extract position of boat and remove duplicate entries.\n",
    "data[\"pose\"][\"time\"] = data[\"pose\"].index\n",
    "position = data['pose'][['time', 'latitude', 'longitude']].drop_duplicates(subset='time', keep='first')\n",
    "position = position[['latitude', 'longitude']]  # remove unneeded time column after de-duplication\n",
    "\n",
    "# If no sensor is specified, try to export all detected sensors.\n",
    "if not sensor_names:\n",
    "    sensor_names = [k for k in data.keys() if k not in ['pose', 'BATTERY']]\n",
    "\n",
    "# Put together all the sensor data we are looking for.\n",
    "# This also combines the name of the sensor with the name of each channel.    \n",
    "sensor_frames = []\n",
    "for sensor_name in sensor_names:\n",
    "    sensor_data = data[sensor_name].copy()\n",
    "    sensor_data.columns = [ sensor_name + '_' + str(k) for k in sensor_data.columns ]\n",
    "    sensor_frames.append(sensor_data)\n",
    "sensor_data = pandas.concat(sensor_frames, axis=1)\n",
    "\n",
    "# Find the position for each sensor reading.\n",
    "sensor_position = position.reindex(sensor_data.index, method='nearest')\n",
    "output = pandas.concat((sensor_position, sensor_data), axis=1)\n",
    "\n",
    "# Fill in missing values with last known values.\n",
    "output = output.apply(pandas.Series.interpolate, method='nearest')\n",
    "output['epoch_time'] = output.index.astype(np.int64)"
   ]
  },
  {
   "cell_type": "code",
   "execution_count": null,
   "metadata": {
    "collapsed": false
   },
   "outputs": [],
   "source": [
    "# Output the file as a CSV in the same directory as the original logfile.\n",
    "output_filename = os.path.splitext(log_filename)[0] + '.csv'\n",
    "output.to_csv(output_filename, index=True)"
   ]
  }
 ],
 "metadata": {
  "kernelspec": {
   "display_name": "Python 2",
   "language": "python",
   "name": "python2"
  },
  "language_info": {
   "codemirror_mode": {
    "name": "ipython",
    "version": 2
   },
   "file_extension": ".py",
   "mimetype": "text/x-python",
   "name": "python",
   "nbconvert_exporter": "python",
   "pygments_lexer": "ipython2",
   "version": "2.7.9"
  }
 },
 "nbformat": 4,
 "nbformat_minor": 0
}

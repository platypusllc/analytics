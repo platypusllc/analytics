{
 "cells": [
  {
   "cell_type": "markdown",
   "metadata": {},
   "source": [
    "## Log Data Exporter - Independent Sensor CSVs\n",
    "This data exporter takes a log file and exports it to a series of CSV files, one per sensor.\n",
    "\n",
    "Since each sensor is exported separately, these CSV files will not have interpolated data values, only the raw reported sensor values."
   ]
  },
  {
   "cell_type": "code",
   "execution_count": null,
   "metadata": {
    "collapsed": false
   },
   "outputs": [],
   "source": [
    "import numpy as np\n",
    "import pandas\n",
    "import platypus.io.logs\n",
    "import os"
   ]
  },
  {
   "cell_type": "code",
   "execution_count": null,
   "metadata": {
    "collapsed": false
   },
   "outputs": [],
   "source": [
    "# Import the data from the specified logfile\n",
    "log_filename = '../logs/platypus_20161126_161922.txt'\n",
    "data = platypus.io.logs.load(log_filename)\n",
    "\n",
    "# To selectively export certain sensors, change this value to an array of names.\n",
    "# By default, all sensors are exported (meaning they are also interpolated).\n",
    "sensor_names = None\n",
    "# sensor_names = ['ATLAS_DO', 'ES2']"
   ]
  },
  {
   "cell_type": "code",
   "execution_count": null,
   "metadata": {
    "collapsed": false
   },
   "outputs": [],
   "source": [
    "def export_csv(data, sensor_name, output_filename):\n",
    "    \"\"\"\n",
    "    Export a CSV for a particular sensor in a logfile.\n",
    "\n",
    "    :param data: a loaded Platypus data log\n",
    "    :param sensor_name: the name of a sensor in the data log\n",
    "    :param output_file: the filename to use for the output CSV\n",
    "    \"\"\"\n",
    "    # Extract position of boat and remove duplicate entries.\n",
    "    data[\"pose\"][\"time\"] = data[\"pose\"].index\n",
    "    position = data['pose'][['time', 'latitude', 'longitude']].drop_duplicates(subset='time', keep='first')\n",
    "    position = position[['latitude', 'longitude']]  # remove unneeded time column after de-duplication\n",
    "\n",
    "    # Check if the sensor name exists in the data log.\n",
    "    if sensor_name not in data.keys():\n",
    "        raise ValueError(\"'{:s}' sensor was not found in the log file.\"\n",
    "                         .format(sensor_name))\n",
    "\n",
    "    # Put together all the sensor data we are looking for.\n",
    "    sensor_data = data[sensor_name].copy()\n",
    "\n",
    "    # Find the position for each sensor reading.\n",
    "    sensor_position = position.reindex(sensor_data.index, method='nearest')\n",
    "    output = pandas.concat((sensor_position, sensor_data), axis=1)\n",
    "\n",
    "    # Fill in missing values with last known values.\n",
    "    output = output.apply(pandas.Series.interpolate, method='nearest')\n",
    "    output['epoch_time'] = output.index.astype(np.int64)\n",
    "    \n",
    "    # Output the file as a CSV in the same directory as the original logfile.\n",
    "    output.to_csv(output_filename, index=True)"
   ]
  },
  {
   "cell_type": "code",
   "execution_count": null,
   "metadata": {
    "collapsed": false
   },
   "outputs": [],
   "source": [
    "# If no sensor is specified, try to export all detected sensors.\n",
    "if not sensor_names:\n",
    "    sensor_names = [k for k in data.keys() if k not in ['pose', 'BATTERY']]\n",
    "\n",
    "# Iterate through and export each sensor as the original logfile name + sensor_name\n",
    "for sensor_name in sensor_names:\n",
    "    output_filename = os.path.splitext(log_filename)[0] + '_' + str(sensor_name) + '.csv'\n",
    "    export_csv(data, sensor_name, output_filename)"
   ]
  }
 ],
 "metadata": {
  "kernelspec": {
   "display_name": "Python 2",
   "language": "python",
   "name": "python2"
  },
  "language_info": {
   "codemirror_mode": {
    "name": "ipython",
    "version": 2
   },
   "file_extension": ".py",
   "mimetype": "text/x-python",
   "name": "python",
   "nbconvert_exporter": "python",
   "pygments_lexer": "ipython2",
   "version": "2.7.9"
  }
 },
 "nbformat": 4,
 "nbformat_minor": 0
}
